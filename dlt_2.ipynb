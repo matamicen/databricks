{
 "cells": [
  {
   "cell_type": "code",
   "execution_count": 0,
   "metadata": {
    "application/vnd.databricks.v1+cell": {
     "cellMetadata": {},
     "inputWidgets": {},
     "nuid": "d937f5df-fecc-4581-9b77-b278ea4ea278",
     "showTitle": false,
     "title": ""
    }
   },
   "outputs": [],
   "source": [
    "import dlt\n",
    "from pyspark.sql.functions import *\n",
    "from pyspark.sql.types import *\n",
    "\n",
    "# df = spark.read.format(\"csv\").option(\"header\", \"true\").load(\"dbfs:/mnt/skynetdev/sales_star_schema/customer.csv\")\n",
    "# df.show()\n",
    "\n",
    "json_path = \"/databricks-datasets/wikipedia-datasets/data-001/clickstream/raw-uncompressed-json/2015_2_clickstream.json\"\n",
    "@dlt.create_table(\n",
    "  comment=\"The raw wikipedia clickstream dataset, ingested from /databricks-datasets.\"\n",
    ")\n",
    "def clickstream_raw():          \n",
    "  return (\n",
    "    # spark.read.json(json_path)\n",
    "    spark.read.format(\"csv\").option(\"header\", \"true\").load(\"dbfs:/mnt/skynetdev/sales_star_schema/customer.csv\")\n",
    "  )\n",
    "\n",
    "\n",
    "# @dlt.table(\n",
    "#   comment=\"Wikipedia clickstream data cleaned and prepared for analysis.\"\n",
    "# )\n",
    "# @dlt.expect(\"valid_current_page_title\", \"current_page_title IS NOT NULL\")\n",
    "# @dlt.expect_or_fail(\"valid_count\", \"click_count > 0\")\n",
    "# def clickstream_prepared():\n",
    "#   return (\n",
    "#     dlt.read(\"clickstream_raw\")\n",
    "#       .withColumn(\"click_count\", expr(\"CAST(n AS INT)\"))\n",
    "#       .withColumnRenamed(\"curr_title\", \"current_page_title\")\n",
    "#       .withColumnRenamed(\"prev_title\", \"previous_page_title\")\n",
    "#       .select(\"current_page_title\", \"click_count\", \"previous_page_title\")\n",
    "#   )\n",
    "\n",
    "\n",
    "# @dlt.table(\n",
    "#   comment=\"A table containing the top pages linking to the Apache Spark page.\"\n",
    "# )\n",
    "# def top_spark_referrers():\n",
    "#   return (\n",
    "#     dlt.read(\"clickstream_prepared\")\n",
    "#       .filter(expr(\"current_page_title == 'Apache_Spark'\"))\n",
    "#       .withColumnRenamed(\"previous_page_title\", \"referrer\")\n",
    "#       .sort(desc(\"click_count\"))\n",
    "#       .select(\"referrer\", \"click_count\")\n",
    "#       .limit(10)\n",
    "#   )"
   ]
  }
 ],
 "metadata": {
  "application/vnd.databricks.v1+notebook": {
   "dashboards": [],
   "language": "python",
   "notebookMetadata": {
    "pythonIndentUnit": 4
   },
   "notebookName": "dlt_2",
   "widgets": {}
  }
 },
 "nbformat": 4,
 "nbformat_minor": 0
}
