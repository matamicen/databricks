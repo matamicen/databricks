{
 "cells": [
  {
   "cell_type": "code",
   "execution_count": 0,
   "metadata": {
    "application/vnd.databricks.v1+cell": {
     "cellMetadata": {
      "byteLimit": 2048000,
      "implicitDf": true,
      "rowLimit": 10000
     },
     "inputWidgets": {},
     "nuid": "267bbdc7-d12b-414a-9b80-57635d586e5e",
     "showTitle": false,
     "title": ""
    }
   },
   "outputs": [
    {
     "output_type": "display_data",
     "data": {
      "text/html": [
       "<style scoped>\n",
       "  .table-result-container {\n",
       "    max-height: 300px;\n",
       "    overflow: auto;\n",
       "  }\n",
       "  table, th, td {\n",
       "    border: 1px solid black;\n",
       "    border-collapse: collapse;\n",
       "  }\n",
       "  th, td {\n",
       "    padding: 5px;\n",
       "  }\n",
       "  th {\n",
       "    text-align: left;\n",
       "  }\n",
       "</style><div class='table-result-container'><table class='table-result'><thead style='background-color: white'><tr></tr></thead><tbody></tbody></table></div>"
      ]
     },
     "metadata": {
      "application/vnd.databricks.v1+output": {
       "addedWidgets": {},
       "aggData": [],
       "aggError": "",
       "aggOverflow": false,
       "aggSchema": [],
       "aggSeriesLimitReached": false,
       "aggType": "",
       "arguments": {},
       "columnCustomDisplayInfos": {},
       "data": [],
       "datasetInfos": [],
       "dbfsResultPath": null,
       "isJsonSchema": true,
       "metadata": {},
       "overflow": false,
       "plotOptions": {
        "customPlotOptions": {},
        "displayType": "table",
        "pivotAggregation": null,
        "pivotColumns": null,
        "xColumns": null,
        "yColumns": null
       },
       "removedWidgets": [],
       "schema": [],
       "type": "table"
      }
     },
     "output_type": "display_data"
    }
   ],
   "source": [
    "%sql\n",
    "    CREATE TABLE IF NOT EXISTS DimCustomerTable3\n",
    "    (\n",
    "    surrogateKey BIGINT GENERATED ALWAYS AS IDENTITY,\n",
    "    CustomerID INT,\n",
    "    CustomerName STRING,\n",
    "    City STRING,\n",
    "    State STRING,\n",
    "    Country STRING,\n",
    "    startDate DATE,\n",
    "    endDate DATE,\n",
    "    active BOOLEAN\n",
    "    )\n",
    "    LOCATION 'dbfs:/mnt/skynet/output/adb_customer_delta2';"
   ]
  },
  {
   "cell_type": "code",
   "execution_count": 0,
   "metadata": {
    "application/vnd.databricks.v1+cell": {
     "cellMetadata": {
      "byteLimit": 2048000,
      "implicitDf": true,
      "rowLimit": 10000
     },
     "inputWidgets": {},
     "nuid": "d479a275-532a-41d2-90e8-5dd605439676",
     "showTitle": false,
     "title": ""
    }
   },
   "outputs": [
    {
     "output_type": "display_data",
     "data": {
      "text/html": [
       "<style scoped>\n",
       "  .table-result-container {\n",
       "    max-height: 300px;\n",
       "    overflow: auto;\n",
       "  }\n",
       "  table, th, td {\n",
       "    border: 1px solid black;\n",
       "    border-collapse: collapse;\n",
       "  }\n",
       "  th, td {\n",
       "    padding: 5px;\n",
       "  }\n",
       "  th {\n",
       "    text-align: left;\n",
       "  }\n",
       "</style><div class='table-result-container'><table class='table-result'><thead style='background-color: white'><tr><th>num_affected_rows</th><th>num_updated_rows</th><th>num_deleted_rows</th><th>num_inserted_rows</th></tr></thead><tbody><tr><td>3</td><td>1</td><td>0</td><td>2</td></tr></tbody></table></div>"
      ]
     },
     "metadata": {
      "application/vnd.databricks.v1+output": {
       "addedWidgets": {},
       "aggData": [],
       "aggError": "",
       "aggOverflow": false,
       "aggSchema": [],
       "aggSeriesLimitReached": false,
       "aggType": "",
       "arguments": {},
       "columnCustomDisplayInfos": {},
       "data": [
        [
         3,
         1,
         0,
         2
        ]
       ],
       "datasetInfos": [],
       "dbfsResultPath": null,
       "isJsonSchema": true,
       "metadata": {},
       "overflow": false,
       "plotOptions": {
        "customPlotOptions": {},
        "displayType": "table",
        "pivotAggregation": null,
        "pivotColumns": null,
        "xColumns": null,
        "yColumns": null
       },
       "removedWidgets": [],
       "schema": [
        {
         "metadata": "{}",
         "name": "num_affected_rows",
         "type": "\"long\""
        },
        {
         "metadata": "{}",
         "name": "num_updated_rows",
         "type": "\"long\""
        },
        {
         "metadata": "{}",
         "name": "num_deleted_rows",
         "type": "\"long\""
        },
        {
         "metadata": "{}",
         "name": "num_inserted_rows",
         "type": "\"long\""
        }
       ],
       "type": "table"
      }
     },
     "output_type": "display_data"
    }
   ],
   "source": [
    "%sql\n",
    "\n",
    "-- Assuming the table `adb_customer_delta2` already exists in the database and has the appropriate schema.\n",
    "-- Drop the temporary table if it exists\n",
    "DROP TABLE IF EXISTS tmp_updates;\n",
    "-- Read the CSV file into a temporary table\n",
    "CREATE TEMPORARY TABLE tmp_updates\n",
    "USING csv\n",
    "OPTIONS (\n",
    "  path 'dbfs:/mnt/skynetdev/sales_star_schema/customer3.csv',\n",
    "  header 'true',\n",
    "  inferSchema 'true'\n",
    ");\n",
    "\n",
    "\n",
    "MERGE INTO DimCustomerTable3 AS a\n",
    "USING\n",
    "(\n",
    "  SELECT \n",
    "    CustomerID as mergeKey,\n",
    "    CustomerID,\n",
    "    CustomerName,\n",
    "    City,\n",
    "    State,\n",
    "    Country\n",
    "  FROM tmp_updates\n",
    "  UNION ALL\n",
    "  SELECT \n",
    "    NULL as mergeKey,\n",
    "    c.CustomerID,\n",
    "    c.CustomerName,\n",
    "    c.City,\n",
    "    c.State,\n",
    "    c.Country\n",
    "  FROM tmp_updates as c\n",
    "  JOIN DimCustomerTable3 as d ON ((c.CustomerID = d.CustomerID) and (c.CustomerName != d.CustomerName) and (d.active=true))\n",
    ") AS b\n",
    "ON a.CustomerID = b.mergeKey \n",
    "WHEN MATCHED and ((b.CustomerName != a.CustomerName) and (a.active=true)) THEN\n",
    "update SET a.endDate = current_date() - 1, a.active = 'false'\n",
    "WHEN NOT MATCHED\n",
    "THEN \n",
    "  INSERT (\n",
    "    CustomerID,\n",
    "    CustomerName,\n",
    "    City,\n",
    "    State,\n",
    "    Country,\n",
    "    startDate,\n",
    "    endDate,\n",
    "    active\n",
    "  )\n",
    "  VALUES (\n",
    "    b.CustomerID,\n",
    "    b.CustomerName,\n",
    "    b.City,\n",
    "    b.State,\n",
    "    b.Country,\n",
    "    CURRENT_DATE(),  -- Set the startDate to the current date on insert\n",
    "    '9999-12-31',    -- Set the endDate to null on insert\n",
    "    'true'\n",
    "  );\n"
   ]
  }
 ],
 "metadata": {
  "application/vnd.databricks.v1+notebook": {
   "dashboards": [],
   "language": "python",
   "notebookMetadata": {
    "mostRecentlyExecutedCommandWithImplicitDF": {
     "commandId": 3874727606358988,
     "dataframes": [
      "_sqldf"
     ]
    },
    "pythonIndentUnit": 4
   },
   "notebookName": "final_scd2_dimension_pysql",
   "widgets": {}
  }
 },
 "nbformat": 4,
 "nbformat_minor": 0
}
