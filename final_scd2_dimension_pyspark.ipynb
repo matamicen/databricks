{
 "cells": [
  {
   "cell_type": "code",
   "execution_count": 0,
   "metadata": {
    "application/vnd.databricks.v1+cell": {
     "cellMetadata": {
      "byteLimit": 2048000,
      "implicitDf": true,
      "rowLimit": 10000
     },
     "inputWidgets": {},
     "nuid": "267bbdc7-d12b-414a-9b80-57635d586e5e",
     "showTitle": false,
     "title": ""
    }
   },
   "outputs": [
    {
     "output_type": "display_data",
     "data": {
      "text/html": [
       "<style scoped>\n",
       "  .table-result-container {\n",
       "    max-height: 300px;\n",
       "    overflow: auto;\n",
       "  }\n",
       "  table, th, td {\n",
       "    border: 1px solid black;\n",
       "    border-collapse: collapse;\n",
       "  }\n",
       "  th, td {\n",
       "    padding: 5px;\n",
       "  }\n",
       "  th {\n",
       "    text-align: left;\n",
       "  }\n",
       "</style><div class='table-result-container'><table class='table-result'><thead style='background-color: white'><tr></tr></thead><tbody></tbody></table></div>"
      ]
     },
     "metadata": {
      "application/vnd.databricks.v1+output": {
       "addedWidgets": {},
       "aggData": [],
       "aggError": "",
       "aggOverflow": false,
       "aggSchema": [],
       "aggSeriesLimitReached": false,
       "aggType": "",
       "arguments": {},
       "columnCustomDisplayInfos": {},
       "data": [],
       "datasetInfos": [],
       "dbfsResultPath": null,
       "isJsonSchema": true,
       "metadata": {},
       "overflow": false,
       "plotOptions": {
        "customPlotOptions": {},
        "displayType": "table",
        "pivotAggregation": null,
        "pivotColumns": null,
        "xColumns": null,
        "yColumns": null
       },
       "removedWidgets": [],
       "schema": [],
       "type": "table"
      }
     },
     "output_type": "display_data"
    }
   ],
   "source": [
    "%sql\n",
    "    CREATE TABLE IF NOT EXISTS DimCustomerTable2\n",
    "    (\n",
    "    surrogateKey BIGINT GENERATED ALWAYS AS IDENTITY,\n",
    "    CustomerID INT,\n",
    "    CustomerName STRING,\n",
    "    City STRING,\n",
    "    State STRING,\n",
    "    Country STRING,\n",
    "    startDate DATE,\n",
    "    endDate DATE,\n",
    "    active BOOLEAN\n",
    "    )\n",
    "    LOCATION 'dbfs:/mnt/skynet/output/adb_customer_delta2';"
   ]
  },
  {
   "cell_type": "code",
   "execution_count": 0,
   "metadata": {
    "application/vnd.databricks.v1+cell": {
     "cellMetadata": {
      "byteLimit": 2048000,
      "rowLimit": 10000
     },
     "inputWidgets": {},
     "nuid": "5e8000d4-e10c-4250-8803-126f74da772b",
     "showTitle": false,
     "title": ""
    }
   },
   "outputs": [],
   "source": [
    "from delta.tables import *\n",
    "from pyspark.sql import SparkSession\n",
    "from pyspark.sql.functions import current_date\n",
    "from pyspark.sql import functions as F\n",
    "\n",
    "# Create a SparkSession\n",
    "spark = SparkSession.builder \\\n",
    "    .appName(\"Delta Table Merge with CSV input\") \\\n",
    "    .getOrCreate()\n",
    "\n",
    "# Define the paths for the Delta tables and CSV input\n",
    "delta_table_people_path = \"dbfs:/mnt/skynet/output/adb_customer_delta2\"\n",
    "input_csv_path = 'dbfs:/mnt/skynetdev/sales_star_schema/customer2.csv'\n",
    "\n",
    "# Read the CSV file into a DataFrame\n",
    "df_updates = spark.read.csv(input_csv_path, header=True, inferSchema=True)\n",
    "\n",
    "\n",
    "# Initialize DeltaTable instance or create it if it doesn't exist\n",
    "#if DeltaTable.isDeltaTable(spark, delta_table_people_path):\n",
    "delta_table_people = DeltaTable.forPath(spark, delta_table_people_path)\n",
    "\n",
    "\n",
    "# Merge the data from the CSV DataFrame (df_updates) into the Delta table (delta_table_people)\n",
    "delta_table_people.alias('people') \\\n",
    "    .merge(\n",
    "        df_updates.alias('updates'),\n",
    "        'people.CustomerID = updates.CustomerID'\n",
    "    ) \\\n",
    "    .whenMatchedUpdate(set=\n",
    "        {\n",
    "            \"endDate\": current_date(),  # Set the endDate to null on update\n",
    "            \"active\" : \"false\"\n",
    "        }\n",
    "    ) \\\n",
    "    .whenNotMatchedInsert(values=\n",
    "        {\n",
    "            \"CustomerID\": \"updates.CustomerID\",\n",
    "            \"CustomerName\": \"updates.CustomerName\",\n",
    "            \"City\": \"updates.City\",\n",
    "            \"State\": \"updates.State\",\n",
    "            \"Country\": \"updates.Country\",\n",
    "            \"startDate\": current_date(),  # Set the startDate to the current date on insert\n",
    "            \"endDate\": F.lit(\"9999-12-31\"),  # Set the endDate to null on insert\n",
    "            \"active\" : \"true\"\n",
    "        }\n",
    "    ) \\\n",
    "    .execute()\n"
   ]
  }
 ],
 "metadata": {
  "application/vnd.databricks.v1+notebook": {
   "dashboards": [],
   "language": "python",
   "notebookMetadata": {
    "mostRecentlyExecutedCommandWithImplicitDF": {
     "commandId": 3892187758163076,
     "dataframes": [
      "_sqldf"
     ]
    },
    "pythonIndentUnit": 4
   },
   "notebookName": "final_scd2_dimension_pyspark",
   "widgets": {}
  }
 },
 "nbformat": 4,
 "nbformat_minor": 0
}
